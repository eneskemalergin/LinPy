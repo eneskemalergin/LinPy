{
 "cells": [
  {
   "cell_type": "markdown",
   "metadata": {},
   "source": [
    "# LinPy : Library to solve for linear algebra\n",
    "\n",
    "> Linear Algebra Spring 2015\n",
    "\n",
    "> Enes Kemal Ergin\n",
    "\n",
    "> 04/29/15"
   ]
  },
  {
   "cell_type": "markdown",
   "metadata": {},
   "source": [
    "LinPy is a Pure Python Library to solve problems related with vectors and matrices. There are no dependencies and what so ever. This presentation will walk you through each function, how they work and why we need them. "
   ]
  },
  {
   "cell_type": "markdown",
   "metadata": {},
   "source": [
    "## Content\n",
    "\n",
    "    1- Vector Class\n",
    "        - list2vec\n",
    "        - zero_vec\n",
    "        - getitem\n",
    "        - setitem\n",
    "        - equal \n",
    "        - add\n",
    "        - dot\n",
    "        - scalar_mul\n",
    "        - neg\n",
    "    2- Matrix Class (COMING)"
   ]
  },
  {
   "cell_type": "code",
   "execution_count": 2,
   "metadata": {
    "collapsed": false
   },
   "outputs": [],
   "source": [
    "# We need to call our module called vec\n",
    "# to use functions inside.\n",
    "import vec"
   ]
  },
  {
   "cell_type": "code",
   "execution_count": null,
   "metadata": {
    "collapsed": true
   },
   "outputs": [],
   "source": []
  }
 ],
 "metadata": {
  "kernelspec": {
   "display_name": "Python 3",
   "language": "python",
   "name": "python3"
  },
  "language_info": {
   "codemirror_mode": {
    "name": "ipython",
    "version": 3
   },
   "file_extension": ".py",
   "mimetype": "text/x-python",
   "name": "python",
   "nbconvert_exporter": "python",
   "pygments_lexer": "ipython3",
   "version": "3.4.3"
  }
 },
 "nbformat": 4,
 "nbformat_minor": 0
}
